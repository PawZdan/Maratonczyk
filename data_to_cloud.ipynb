{
 "cells": [
  {
   "cell_type": "code",
   "execution_count": null,
   "id": "bc139225",
   "metadata": {},
   "outputs": [],
   "source": [
    "import pandas as pd\n",
    "\n",
    "df = pd.read_csv('halfmarathon_wroclaw_2023__final.csv', sep=';')\n",
    "df.head()"
   ]
  },
  {
   "cell_type": "code",
   "execution_count": null,
   "id": "aa18be73",
   "metadata": {},
   "outputs": [],
   "source": [
    "from itables import show\n",
    "import itables.options as opt\n",
    "\n",
    "opt.maxBytes = 0  # wyświetlaj pełne wartości\n",
    "opt.lengthMenu = [10, 25, 50, 100, 1000]  # dostępne opcje liczby wierszy\n",
    "opt.columnDefs = [{\"className\": \"dt-left\", \"targets\": \"_all\"}]  # wyrównanie do lewej\n",
    "\n",
    "show(df)"
   ]
  },
  {
   "cell_type": "code",
   "execution_count": 3,
   "id": "769b9d4a",
   "metadata": {},
   "outputs": [],
   "source": [
    "def convert_time_to_seconds(time):\n",
    "    if pd.isnull(time) or time in ['DNS', 'DNF']:\n",
    "        return None\n",
    "    time = time.split(':')\n",
    "    return int(time[0]) * 3600 + int(time[1]) * 60 + int(time[2])"
   ]
  },
  {
   "cell_type": "code",
   "execution_count": 4,
   "id": "c3e36584",
   "metadata": {},
   "outputs": [],
   "source": [
    "df['Czas'] = df['Czas'].apply(convert_time_to_seconds)"
   ]
  },
  {
   "cell_type": "code",
   "execution_count": null,
   "id": "37dd5b74",
   "metadata": {},
   "outputs": [],
   "source": [
    "df2024 = pd.read_csv('halfmarathon_wroclaw_2024__final.csv', sep=';')\n",
    "show(df2024)"
   ]
  },
  {
   "cell_type": "code",
   "execution_count": 6,
   "id": "9161d101",
   "metadata": {},
   "outputs": [],
   "source": [
    "df2024['Czas'] = df2024['Czas'].apply(convert_time_to_seconds)"
   ]
  },
  {
   "cell_type": "code",
   "execution_count": 8,
   "id": "eb0fef36",
   "metadata": {},
   "outputs": [],
   "source": [
    "df2024.to_csv(\"dane2024.csv\")\n",
    "df.to_csv(\"dane2023.csv\")"
   ]
  },
  {
   "cell_type": "code",
   "execution_count": 9,
   "id": "6e2997d8",
   "metadata": {},
   "outputs": [],
   "source": [
    "!pip install --quiet boto3\n",
    "!pip install --quiet python-dotenv"
   ]
  },
  {
   "cell_type": "code",
   "execution_count": 1,
   "id": "eb5009e9",
   "metadata": {},
   "outputs": [
    {
     "data": {
      "text/plain": [
       "True"
      ]
     },
     "execution_count": 1,
     "metadata": {},
     "output_type": "execute_result"
    }
   ],
   "source": [
    "from dotenv import load_dotenv\n",
    "\n",
    "load_dotenv()\n"
   ]
  },
  {
   "cell_type": "code",
   "execution_count": 2,
   "id": "48155d8b",
   "metadata": {},
   "outputs": [],
   "source": [
    "import boto3\n",
    "import os\n",
    "\n",
    "s3 = boto3.client(\n",
    "    \"s3\",\n",
    "    # aws_access_key_id=os.getenv(\"AWS_ACCESS_KEY_ID\"),\n",
    "    # aws_secret_access_key=os.getenv(\"AWS_SECRET_ACCESS_KEY\"),\n",
    "    # Endpoint jest potrzebny dlatego że używamy chmury innej niż AWS \n",
    "    # endpoint_url=os.getenv(\"AWS_ENDPOINT_URL_S3\"), \n",
    "    # Gdybyśmy używali AWS to musielibyśmy natomiast podać region\n",
    "    #region_name='eu-central-1'\n",
    ")"
   ]
  },
  {
   "cell_type": "code",
   "execution_count": 3,
   "id": "111ed49a",
   "metadata": {},
   "outputs": [],
   "source": [
    "BUCKET_NAME = \"pawelsbucket\""
   ]
  },
  {
   "cell_type": "code",
   "execution_count": 17,
   "id": "11d305d3",
   "metadata": {},
   "outputs": [],
   "source": [
    "s3.upload_file(\n",
    "            Filename=\"dane2023.csv\",\n",
    "            Bucket=BUCKET_NAME,\n",
    "            Key=\"data/dane_maraton2023.csv\"\n",
    "        )"
   ]
  },
  {
   "cell_type": "code",
   "execution_count": 16,
   "id": "4a74644b",
   "metadata": {},
   "outputs": [],
   "source": [
    "s3.upload_file(\n",
    "            Filename=\"dane2024.csv\",\n",
    "            Bucket=BUCKET_NAME,\n",
    "            Key=\"data/dane_maraton2024.csv\"\n",
    "        )"
   ]
  },
  {
   "cell_type": "code",
   "execution_count": 4,
   "id": "95b37665",
   "metadata": {},
   "outputs": [],
   "source": [
    "s3.upload_file(\n",
    "            Filename=\"model_regresji.pkl\",\n",
    "            Bucket=BUCKET_NAME,\n",
    "            Key=\"data/model_regresji.pkl\"\n",
    "        )"
   ]
  }
 ],
 "metadata": {
  "kernelspec": {
   "display_name": "od_zera",
   "language": "python",
   "name": "python3"
  },
  "language_info": {
   "codemirror_mode": {
    "name": "ipython",
    "version": 3
   },
   "file_extension": ".py",
   "mimetype": "text/x-python",
   "name": "python",
   "nbconvert_exporter": "python",
   "pygments_lexer": "ipython3",
   "version": "3.11.11"
  }
 },
 "nbformat": 4,
 "nbformat_minor": 5
}
